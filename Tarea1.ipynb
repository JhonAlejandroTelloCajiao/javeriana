{
 "cells": [
  {
   "cell_type": "code",
   "execution_count": 21,
   "metadata": {},
   "outputs": [],
   "source": [
    "def fruit_discount(fruit, quantity, month, unitValue):\n",
    "    if (quantity < 0 or not (month in range(1,13))):\n",
    "        print(\"Error\")\n",
    "        return -1 \n",
    "    else:\n",
    "        discount = 0\n",
    "        if (fruit == \"Manzana\" and (quantity > 35 or month == 8)):\n",
    "            discount = 0.35\n",
    "        saleValue = quantity*unitValue*(1 - discount)\n",
    "        print(f\"fruit: {fruit} saleValue: {saleValue}\")\n",
    "        return saleValue\n"
   ]
  },
  {
   "cell_type": "code",
   "execution_count": 25,
   "metadata": {},
   "outputs": [
    {
     "name": "stdout",
     "output_type": "stream",
     "text": [
      "Error\n",
      "Error\n",
      "fruit: Uva saleValue: 100000\n",
      "fruit: Manzana saleValue: 65000.0\n",
      "fruit: Manzana saleValue: 10000\n",
      "fruit: Manzana saleValue: 6500.0\n"
     ]
    },
    {
     "data": {
      "text/plain": [
       "6500.0"
      ]
     },
     "execution_count": 25,
     "metadata": {},
     "output_type": "execute_result"
    }
   ],
   "source": [
    "fruit_discount(\"Pera\", -4, 7, 2000)\n",
    "fruit_discount(\"Pera\", 4, 0, 1250)\n",
    "fruit_discount(\"Uva\", 100, 12, 1000)\n",
    "fruit_discount(\"Manzana\", 100, 12, 1000)\n",
    "fruit_discount(\"Manzana\", 10, 12, 1000)\n",
    "fruit_discount(\"Manzana\", 10, 8, 1000)\n"
   ]
  },
  {
   "cell_type": "code",
   "execution_count": null,
   "metadata": {},
   "outputs": [],
   "source": []
  }
 ],
 "metadata": {
  "kernelspec": {
   "display_name": "Python 3",
   "language": "python",
   "name": "python3"
  },
  "language_info": {
   "codemirror_mode": {
    "name": "ipython",
    "version": 3
   },
   "file_extension": ".py",
   "mimetype": "text/x-python",
   "name": "python",
   "nbconvert_exporter": "python",
   "pygments_lexer": "ipython3",
   "version": "3.12.1"
  }
 },
 "nbformat": 4,
 "nbformat_minor": 2
}
